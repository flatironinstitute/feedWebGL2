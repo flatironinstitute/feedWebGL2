{
 "cells": [
  {
   "cell_type": "markdown",
   "metadata": {},
   "source": [
    "# Star with toruses\n",
    "\n",
    "This is an example of a synthesized three dimensional volume\n",
    "that is not easy to visualize using only two dimenaional projections.\n",
    "\n",
    "The calculation to generate the volume array is not optimized and it takes a while to complete."
   ]
  },
  {
   "cell_type": "code",
   "execution_count": null,
   "metadata": {},
   "outputs": [],
   "source": [
    "import numpy as np\n",
    "from numpy.linalg import norm"
   ]
  },
  {
   "cell_type": "code",
   "execution_count": null,
   "metadata": {},
   "outputs": [],
   "source": [
    "def vec(*args):\n",
    "    return np.array(args, dtype=np.float)\n",
    "\n",
    "def normalize(V, epsilon=1e-12):\n",
    "    nm = norm(V)\n",
    "    if nm < epsilon:\n",
    "        return vec(1, 0, 0) # whatever\n",
    "    return (1.0 / nm) * V\n",
    "\n",
    "def point_segment_distance(P, segment, epsilon=1e-4):\n",
    "    A = segment[0]\n",
    "    B = segment[1]\n",
    "    V = B - A\n",
    "    nV2 = V.dot(V)\n",
    "    if (nV2 < epsilon):\n",
    "        #print(\"degenerate segment\")\n",
    "        return norm(B - P)\n",
    "    lmd = V.dot(P - A) / nV2\n",
    "    if 0 < lmd and lmd < 1:\n",
    "        #print(\"project onto line segment\")\n",
    "        Pprojection = A + lmd * V\n",
    "        return norm(P - Pprojection)\n",
    "    # otherwise distance to closer end point\n",
    "    #print(\"closest end point\")\n",
    "    dA = norm(P - A)\n",
    "    dB = norm(P - B)\n",
    "    return min(dA, dB)\n",
    "\n",
    "def circle_distance(P, center, radius, normal):\n",
    "    plane_distance = normal.dot(P - center)\n",
    "    vertical_offset = plane_distance * normal\n",
    "    plane_projection = P - vertical_offset\n",
    "    direction_from_center = normalize(plane_projection - center)\n",
    "    circle_nearest_point = center + radius * direction_from_center\n",
    "    distance = norm(P - circle_nearest_point)\n",
    "    return distance"
   ]
  },
  {
   "cell_type": "code",
   "execution_count": null,
   "metadata": {},
   "outputs": [],
   "source": [
    "circle_distance(vec(1,1,1), vec(0,1,1), 2, normalize(vec(-1,2,-1)))"
   ]
  },
  {
   "cell_type": "code",
   "execution_count": null,
   "metadata": {},
   "outputs": [],
   "source": [
    "# tetrahedral vertices\n",
    "vertices = vec([1,1,1], [-1,-1,1], [1,-1,-1], [-1,1,-1], )\n",
    "\n",
    "normals = []\n",
    "origin = vec(0,0,0)\n",
    "radius = 0.9\n",
    "\n",
    "for v in vertices:\n",
    "    normals.append(normalize(v))\n",
    "    \n",
    "def inverse_distance_sum(P, epsilon=0.1):\n",
    "    total = 0.0\n",
    "    for (i, v) in enumerate(vertices):\n",
    "        dsegment = point_segment_distance(P, [origin, v])\n",
    "        total += 1.0 / (dsegment + epsilon)\n",
    "        normal = normals[i]\n",
    "        dcircle = circle_distance(P, v, radius, normal)\n",
    "        total += 1.0 / (dcircle + epsilon)\n",
    "    return total\n",
    "\n",
    "\n",
    "for L in ([0,0,0], [-1, -1, -2], [1, -1, 1], [2,2,2], [1,1,1], [0,0,1]):\n",
    "    print(L)\n",
    "    P = vec(*L)\n",
    "    print(\"   \", inverse_distance_sum(P))"
   ]
  },
  {
   "cell_type": "code",
   "execution_count": null,
   "metadata": {},
   "outputs": [],
   "source": [
    "# This computation takes a while (it has not been optimized.)\n",
    "N = 20\n",
    "N2 = 2 * N\n",
    "N4 = 4 * N\n",
    "invN = 1.0 / N\n",
    "A = np.zeros((N4, N4, N4), dtype=np.float)\n",
    "\n",
    "def shifti(i):\n",
    "    return (i - N2) * invN\n",
    "\n",
    "for i in range(N4):\n",
    "    for j in range(N4):\n",
    "        for k in range(N4):\n",
    "            P = shifti(vec(i,j,k))\n",
    "            A[i, j, k] = inverse_distance_sum(P)"
   ]
  },
  {
   "cell_type": "code",
   "execution_count": null,
   "metadata": {},
   "outputs": [],
   "source": [
    "from feedWebGL2 import volume\n",
    "H = A.mean()\n",
    "A.shape, H"
   ]
  },
  {
   "cell_type": "code",
   "execution_count": null,
   "metadata": {},
   "outputs": [],
   "source": [
    "volume.widen_notebook()\n",
    "\n",
    "W = volume.Volume32()\n",
    "\n",
    "W"
   ]
  },
  {
   "cell_type": "code",
   "execution_count": null,
   "metadata": {},
   "outputs": [],
   "source": [
    "W.load_3d_numpy_array(A, threshold=H, sorted=False)\n",
    "\n",
    "#W.load_3d_numpy_array(A, threshold=H, sorted=True, method=\"diagonal\")\n",
    "\n",
    "x = W.build(1500)"
   ]
  },
  {
   "cell_type": "code",
   "execution_count": null,
   "metadata": {},
   "outputs": [],
   "source": [
    "# Create a web folder containing the visualization\n",
    "if False:\n",
    "    target_folder = \"../docs/torus_html\"\n",
    "\n",
    "    from feedWebGL2 import html_generator\n",
    "\n",
    "    html_generator.generate_volume_html(A, target_folder, force=False, width=1500)"
   ]
  },
  {
   "cell_type": "code",
   "execution_count": null,
   "metadata": {},
   "outputs": [],
   "source": []
  }
 ],
 "metadata": {
  "kernelspec": {
   "display_name": "Python 3",
   "language": "python",
   "name": "python3"
  },
  "language_info": {
   "codemirror_mode": {
    "name": "ipython",
    "version": 3
   },
   "file_extension": ".py",
   "mimetype": "text/x-python",
   "name": "python",
   "nbconvert_exporter": "python",
   "pygments_lexer": "ipython3",
   "version": "3.6.8"
  }
 },
 "nbformat": 4,
 "nbformat_minor": 4
}
