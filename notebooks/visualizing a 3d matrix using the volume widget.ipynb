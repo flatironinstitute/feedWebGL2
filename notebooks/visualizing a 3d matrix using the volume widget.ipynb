{
 "cells": [
  {
   "cell_type": "markdown",
   "metadata": {},
   "source": [
    "<img src=\"torso.png\" width=\"800\"/>\n",
    "\n",
    "\n",
    "# How to visualize a 3d matrix using the volume widget\n",
    "\n",
    "First you need a 3d matrix.  Let's read a matrix from a binary format which was derived\n",
    "from MRI imaging:"
   ]
  },
  {
   "cell_type": "code",
   "execution_count": null,
   "metadata": {},
   "outputs": [],
   "source": [
    "import numpy as np\n",
    "f = open(\"mri.npy\", \"rb\")\n",
    "Matrix = np.load(f)\n",
    "\n",
    "Matrix.shape"
   ]
  },
  {
   "cell_type": "markdown",
   "metadata": {},
   "source": [
    "Create a volume widget and then load the matrix:"
   ]
  },
  {
   "cell_type": "code",
   "execution_count": null,
   "metadata": {},
   "outputs": [],
   "source": [
    "from feedWebGL2 import volume\n",
    "volume.widen_notebook()\n",
    "\n",
    "W = volume.Volume32()\n",
    "W.load_3d_numpy_array(Matrix, threshold=33000)\n",
    "W.build(width=1600)\n",
    "\n",
    "#W.debugging_display()\n",
    "W"
   ]
  },
  {
   "cell_type": "code",
   "execution_count": null,
   "metadata": {},
   "outputs": [],
   "source": [
    "# wait for widget to initialize before attempting to load data.\n",
    "#W.sync()"
   ]
  },
  {
   "cell_type": "markdown",
   "metadata": {},
   "source": [
    "## Select the current slicing\n",
    "\n",
    "After adjusting the slicing (by dragging the black boundary square markers).\n",
    "You can extract the current slicing into a smaller matris and display that matrix:"
   ]
  },
  {
   "cell_type": "code",
   "execution_count": null,
   "metadata": {},
   "outputs": [],
   "source": [
    "M1 = W.current_array_slicing()\n",
    "M1.shape"
   ]
  },
  {
   "cell_type": "code",
   "execution_count": null,
   "metadata": {},
   "outputs": [],
   "source": [
    "W1 = volume.Volume32()\n",
    "\n",
    "W1\n",
    "W1.load_3d_numpy_array(M1, threshold=33000)\n",
    "W1.build(width=1600)"
   ]
  },
  {
   "cell_type": "code",
   "execution_count": null,
   "metadata": {},
   "outputs": [],
   "source": [
    "W.last_slicing"
   ]
  },
  {
   "cell_type": "code",
   "execution_count": null,
   "metadata": {},
   "outputs": [],
   "source": []
  }
 ],
 "metadata": {
  "kernelspec": {
   "display_name": "Python 3",
   "language": "python",
   "name": "python3"
  },
  "language_info": {
   "codemirror_mode": {
    "name": "ipython",
    "version": 3
   },
   "file_extension": ".py",
   "mimetype": "text/x-python",
   "name": "python",
   "nbconvert_exporter": "python",
   "pygments_lexer": "ipython3",
   "version": "3.6.8"
  }
 },
 "nbformat": 4,
 "nbformat_minor": 4
}
